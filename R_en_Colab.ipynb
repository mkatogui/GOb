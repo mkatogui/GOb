{
  "nbformat": 4,
  "nbformat_minor": 0,
  "metadata": {
    "colab": {
      "provenance": [],
      "include_colab_link": true
    },
    "kernelspec": {
      "name": "ir",
      "display_name": "R"
    },
    "language_info": {
      "name": "R"
    }
  },
  "cells": [
    {
      "cell_type": "markdown",
      "metadata": {
        "id": "view-in-github",
        "colab_type": "text"
      },
      "source": [
        "<a href=\"https://colab.research.google.com/github/mkatogui/RNotebooks/blob/master/R_en_Colab.ipynb\" target=\"_parent\"><img src=\"https://colab.research.google.com/assets/colab-badge.svg\" alt=\"Open In Colab\"/></a>"
      ]
    },
    {
      "cell_type": "markdown",
      "metadata": {
        "id": "vfk80U8oQRaa"
      },
      "source": [
        "# Es posible utilizar R desde cualquier dispositivo con acceso a internet.\n",
        "### Desde el navegador web podemos comenzar a programar y compartir nuestros resultados.\n",
        "\n"
      ]
    },
    {
      "cell_type": "markdown",
      "metadata": {
        "id": "w7N31JPHSswW"
      },
      "source": [
        "#Lógica sintáctica.\n",
        "\n",
        "##Definición de objetos\n",
        "\n",
        "Los **Objetos/Elemento**s constituyen la categoría esencial del R. De hecho, todo en R es un objeto, y se almacena con un nombre específico que **no debe poseer espacios**. Un número, un vector, una función, la progresión de letras del abecedario, una base de datos, un gráfico, constituyen para R objetos de distinto tipo. Los objetos que vamos creando a medida que trabajamos pueden visualizarse en el panel derecho superior de la pantalla (el *Environment*).\n",
        "\n",
        "El operador <- (**Alt** + **Guión**) sirve para definir un objeto.  **A la izquierda** del <- debe ubicarse el nombre que tomará el elemento a crear.** Del lado derecho** debe ir la definición del mismo.\n"
      ]
    },
    {
      "cell_type": "code",
      "metadata": {
        "id": "df2pT_-ITStI"
      },
      "source": [
        "A <- 1"
      ],
      "execution_count": null,
      "outputs": []
    },
    {
      "cell_type": "code",
      "metadata": {
        "colab": {
          "base_uri": "https://localhost:8080/",
          "height": 34
        },
        "id": "ZoKiRfY5aIZ4",
        "outputId": "2a91f29c-b7bf-4707-f8b1-fdac24ddd1a7"
      },
      "source": [
        "A"
      ],
      "execution_count": null,
      "outputs": [
        {
          "output_type": "display_data",
          "data": {
            "text/plain": [
              "[1] 1"
            ],
            "text/latex": "1",
            "text/markdown": "1",
            "text/html": [
              "1"
            ]
          },
          "metadata": {}
        }
      ]
    },
    {
      "cell_type": "code",
      "metadata": {
        "colab": {
          "base_uri": "https://localhost:8080/",
          "height": 34
        },
        "id": "Barq4rTaZKfy",
        "outputId": "2c3cd13b-ce0d-4122-d443-190973015f2b"
      },
      "source": [
        "(A+2)^2"
      ],
      "execution_count": null,
      "outputs": [
        {
          "output_type": "display_data",
          "data": {
            "text/plain": [
              "[1] 9"
            ],
            "text/latex": "9",
            "text/markdown": "9",
            "text/html": [
              "9"
            ]
          },
          "metadata": {}
        }
      ]
    },
    {
      "cell_type": "markdown",
      "metadata": {
        "id": "gJzvAEjvTYD2"
      },
      "source": [
        "\n",
        "Por ejemplo, podemos crear el elemento A, cuyo valor será 1. Para esto, debemos correr el código presionando Ctrl + Enter, con el cursor ubicado en cualquier parte de la línea. Al definir un elemento, el mismo queda guardado en el ambiente del programa, y podrá ser utilizado posteriormente para observar su contenido o para realizar una operación con el mismo.\n"
      ]
    },
    {
      "cell_type": "code",
      "metadata": {
        "colab": {
          "base_uri": "https://localhost:8080/",
          "height": 52
        },
        "id": "ysHyVlLRQ7SQ",
        "outputId": "917de5de-b08f-4444-a91c-2182d748fdb4"
      },
      "source": [
        "A\n",
        "A+6"
      ],
      "execution_count": null,
      "outputs": [
        {
          "output_type": "display_data",
          "data": {
            "text/plain": [
              "[1] 1"
            ],
            "text/latex": "1",
            "text/markdown": "1",
            "text/html": [
              "1"
            ]
          },
          "metadata": {}
        },
        {
          "output_type": "display_data",
          "data": {
            "text/plain": [
              "[1] 7"
            ],
            "text/latex": "7",
            "text/markdown": "7",
            "text/html": [
              "7"
            ]
          },
          "metadata": {}
        }
      ]
    },
    {
      "cell_type": "markdown",
      "metadata": {
        "id": "xJl_4znFTtH4"
      },
      "source": [
        "\n",
        "Al correr una linea con el nombre del objeto, la consola del programa nos muestra su contenido. Entre corchetes observamos el número de orden del elemento en cuestión. Si corremos una operación, la consola nos muestra el resultado de la misma.\n",
        "El operador = es equivalente a <-, pero en la práctica no se utiliza para la definición de objetos.\n"
      ]
    },
    {
      "cell_type": "code",
      "metadata": {
        "colab": {
          "base_uri": "https://localhost:8080/",
          "height": 34
        },
        "id": "gPKAzme_TyPp",
        "outputId": "0c5623ba-9405-41f8-eca3-9d03ea7e5a86"
      },
      "source": [
        "B = 2\n",
        "B\n"
      ],
      "execution_count": null,
      "outputs": [
        {
          "output_type": "display_data",
          "data": {
            "text/plain": [
              "[1] 2"
            ],
            "text/latex": "2",
            "text/markdown": "2",
            "text/html": [
              "2"
            ]
          },
          "metadata": {}
        }
      ]
    },
    {
      "cell_type": "markdown",
      "metadata": {
        "id": "gqIS4k0nT7d5"
      },
      "source": [
        "<- es un operador Unidireccional, es decir que:\n",
        "\n",
        "A <- B implica que A va tomar como valor el contenido del objeto B, y no al revés.\n"
      ]
    },
    {
      "cell_type": "code",
      "metadata": {
        "colab": {
          "base_uri": "https://localhost:8080/",
          "height": 52
        },
        "id": "0WAYIHLXT7Ly",
        "outputId": "7a1d417e-e995-4aa3-e6c8-be0d7226b959"
      },
      "source": [
        "A <- B\n",
        "A      # Ahora A toma el valor de B, y B continúa conservando el mismo valor\n",
        "B\n",
        "\n"
      ],
      "execution_count": null,
      "outputs": [
        {
          "output_type": "display_data",
          "data": {
            "text/plain": [
              "[1] 2"
            ],
            "text/latex": "2",
            "text/markdown": "2",
            "text/html": [
              "2"
            ]
          },
          "metadata": {}
        },
        {
          "output_type": "display_data",
          "data": {
            "text/plain": [
              "[1] 2"
            ],
            "text/latex": "2",
            "text/markdown": "2",
            "text/html": [
              "2"
            ]
          },
          "metadata": {}
        }
      ]
    },
    {
      "cell_type": "markdown",
      "metadata": {
        "id": "LtHyUb03UN3v"
      },
      "source": [
        "##R base\n",
        "Con R base nos referimos a los comandos básicos que vienen incorporados en el R, sin necesidad de cargar librerías.\n",
        "\n",
        "###Operadores lógicos:\n",
        "```\n",
        "    $ > $ (mayor a-)\n",
        "    $ >= $ (mayor o igual a-)\n",
        "    $<$ (menor a-)\n",
        "    $<=$ (menor o igual a-)\n",
        "    $==$ (igual a-)\n",
        "    $!=$ (distinto a-)\n",
        "```\n",
        "\n",
        "\n"
      ]
    },
    {
      "cell_type": "code",
      "metadata": {
        "id": "XIRyLNf8VHcK"
      },
      "source": [
        "# Redefinimos los valores A y B\n",
        "A <- 10\n",
        "B <- 20\n"
      ],
      "execution_count": null,
      "outputs": []
    },
    {
      "cell_type": "code",
      "metadata": {
        "colab": {
          "base_uri": "https://localhost:8080/",
          "height": 156
        },
        "id": "49SQfZMtaszM",
        "outputId": "e0fafdf9-38d6-488f-809c-d54ac121afe4"
      },
      "source": [
        "\n",
        "# Realizamos comparaciones lógicas\n",
        "A >  B\n",
        "A >= B\n",
        "A <  B\n",
        "A <= B\n",
        "A == B\n",
        "A != B\n",
        "\n",
        "C <- A != B\n",
        "print(paste(\"C es\", sep=\" \", C))\n",
        "C\n"
      ],
      "execution_count": null,
      "outputs": [
        {
          "output_type": "display_data",
          "data": {
            "text/plain": [
              "[1] FALSE"
            ],
            "text/latex": "FALSE",
            "text/markdown": "FALSE",
            "text/html": [
              "FALSE"
            ]
          },
          "metadata": {}
        },
        {
          "output_type": "display_data",
          "data": {
            "text/plain": [
              "[1] FALSE"
            ],
            "text/latex": "FALSE",
            "text/markdown": "FALSE",
            "text/html": [
              "FALSE"
            ]
          },
          "metadata": {}
        },
        {
          "output_type": "display_data",
          "data": {
            "text/plain": [
              "[1] TRUE"
            ],
            "text/latex": "TRUE",
            "text/markdown": "TRUE",
            "text/html": [
              "TRUE"
            ]
          },
          "metadata": {}
        },
        {
          "output_type": "display_data",
          "data": {
            "text/plain": [
              "[1] TRUE"
            ],
            "text/latex": "TRUE",
            "text/markdown": "TRUE",
            "text/html": [
              "TRUE"
            ]
          },
          "metadata": {}
        },
        {
          "output_type": "display_data",
          "data": {
            "text/plain": [
              "[1] FALSE"
            ],
            "text/latex": "FALSE",
            "text/markdown": "FALSE",
            "text/html": [
              "FALSE"
            ]
          },
          "metadata": {}
        },
        {
          "output_type": "display_data",
          "data": {
            "text/plain": [
              "[1] TRUE"
            ],
            "text/latex": "TRUE",
            "text/markdown": "TRUE",
            "text/html": [
              "TRUE"
            ]
          },
          "metadata": {}
        },
        {
          "output_type": "stream",
          "name": "stdout",
          "text": [
            "[1] \"C es TRUE\"\n"
          ]
        },
        {
          "output_type": "display_data",
          "data": {
            "text/plain": [
              "[1] TRUE"
            ],
            "text/latex": "TRUE",
            "text/markdown": "TRUE",
            "text/html": [
              "TRUE"
            ]
          },
          "metadata": {}
        }
      ]
    },
    {
      "cell_type": "markdown",
      "metadata": {
        "id": "2zsrrmF8WW7h"
      },
      "source": [
        "Como muestra el último ejemplo, el resultado de una operación lógica puede almacenarse como el valor de un objeto.\n",
        "\n",
        "####Operadores aritméticos:\n"
      ]
    },
    {
      "cell_type": "code",
      "metadata": {
        "colab": {
          "base_uri": "https://localhost:8080/",
          "height": 104
        },
        "id": "KGFB8F1XW1U6",
        "outputId": "1d59ce7c-d86c-44fd-d8c2-bc980d9bc104"
      },
      "source": [
        "#suma\n",
        "A <- 5+6\n",
        "A\n",
        "#Resta\n",
        "B <- 6-8\n",
        "B\n",
        "#cociente\n",
        "C <- 6/2.5\n",
        "C\n",
        "#multiplicacion\n",
        "D <- 6*2.5\n",
        "D\n",
        "D^6"
      ],
      "execution_count": null,
      "outputs": [
        {
          "output_type": "display_data",
          "data": {
            "text/plain": [
              "[1] 11"
            ],
            "text/latex": "11",
            "text/markdown": "11",
            "text/html": [
              "11"
            ]
          },
          "metadata": {}
        },
        {
          "output_type": "display_data",
          "data": {
            "text/plain": [
              "[1] -2"
            ],
            "text/latex": "-2",
            "text/markdown": "-2",
            "text/html": [
              "-2"
            ]
          },
          "metadata": {}
        },
        {
          "output_type": "display_data",
          "data": {
            "text/plain": [
              "[1] 2.4"
            ],
            "text/latex": "2.4",
            "text/markdown": "2.4",
            "text/html": [
              "2.4"
            ]
          },
          "metadata": {}
        },
        {
          "output_type": "display_data",
          "data": {
            "text/plain": [
              "[1] 15"
            ],
            "text/latex": "15",
            "text/markdown": "15",
            "text/html": [
              "15"
            ]
          },
          "metadata": {}
        },
        {
          "output_type": "display_data",
          "data": {
            "text/plain": [
              "[1] 11390625"
            ],
            "text/latex": "11390625",
            "text/markdown": "11390625",
            "text/html": [
              "11390625"
            ]
          },
          "metadata": {}
        }
      ]
    },
    {
      "cell_type": "markdown",
      "metadata": {
        "id": "jJx76C8mW6iT"
      },
      "source": [
        "####Funciones:\n",
        "Las funciones son series de procedimientos estandarizados, que toman como imput determinados argumentos a fijar por el usuario, y devuelven un resultado acorde a la aplicación de dichos procedimientos. Su lógica de funcionamiento es:\n",
        "`funcion(argumento1 = arg1, argumento2 = arg2)`\n",
        "\n",
        "A lo largo del curso iremos viendo numerosas funciones, según lo requieran los distintos ejercicios. Sin embargo, veamos ahora algunos ejemplos para comprender su funcionamiento:\n",
        "\n",
        "\n",
        "\n",
        "*   paste() : concatena una serie de caracteres, pudiendo indicarse cómo separar a  cada uno de ellos\n",
        "*   paste0(): concatena una serie de caracteres sin separar\n",
        "*   sum(): suma de todos los elementos de un vector\n",
        "*   mean() promedio aritmético de todos los elementos de un vector\n"
      ]
    },
    {
      "cell_type": "code",
      "metadata": {
        "colab": {
          "base_uri": "https://localhost:8080/",
          "height": 121
        },
        "id": "mXPGTHoTXHAG",
        "outputId": "e67dcfeb-d590-46ec-e2a0-c64d6f7591e9"
      },
      "source": [
        "paste(\"Pega\", \"estas\", 4, \"palabras\", sep = \" \")\n",
        "\n",
        "#Puedo concatenar caracteres almacenados en objetos\n",
        "paste(A, B, C, sep = \"**\")\n",
        "\n",
        "# Paste0 pega los caracteres sin separador\n",
        "paste0(A, B, C)\n",
        "\n",
        "1:5\n",
        "\n",
        "sum(1:5)\n",
        "\n",
        "mean(1:5, na.rm = TRUE)"
      ],
      "execution_count": null,
      "outputs": [
        {
          "output_type": "display_data",
          "data": {
            "text/plain": [
              "[1] \"Pega estas 4 palabras\""
            ],
            "text/latex": "'Pega estas 4 palabras'",
            "text/markdown": "'Pega estas 4 palabras'",
            "text/html": [
              "'Pega estas 4 palabras'"
            ]
          },
          "metadata": {}
        },
        {
          "output_type": "display_data",
          "data": {
            "text/plain": [
              "[1] \"11**-2**2.4\""
            ],
            "text/latex": "'11**-2**2.4'",
            "text/markdown": "'11**-2**2.4'",
            "text/html": [
              "'11**-2**2.4'"
            ]
          },
          "metadata": {}
        },
        {
          "output_type": "display_data",
          "data": {
            "text/plain": [
              "[1] \"11-22.4\""
            ],
            "text/latex": "'11-22.4'",
            "text/markdown": "'11-22.4'",
            "text/html": [
              "'11-22.4'"
            ]
          },
          "metadata": {}
        },
        {
          "output_type": "display_data",
          "data": {
            "text/plain": [
              "[1] 1 2 3 4 5"
            ],
            "text/latex": "\\begin{enumerate*}\n\\item 1\n\\item 2\n\\item 3\n\\item 4\n\\item 5\n\\end{enumerate*}\n",
            "text/markdown": "1. 1\n2. 2\n3. 3\n4. 4\n5. 5\n\n\n",
            "text/html": [
              "<style>\n",
              ".list-inline {list-style: none; margin:0; padding: 0}\n",
              ".list-inline>li {display: inline-block}\n",
              ".list-inline>li:not(:last-child)::after {content: \"\\00b7\"; padding: 0 .5ex}\n",
              "</style>\n",
              "<ol class=list-inline><li>1</li><li>2</li><li>3</li><li>4</li><li>5</li></ol>\n"
            ]
          },
          "metadata": {}
        },
        {
          "output_type": "display_data",
          "data": {
            "text/plain": [
              "[1] 15"
            ],
            "text/latex": "15",
            "text/markdown": "15",
            "text/html": [
              "15"
            ]
          },
          "metadata": {}
        },
        {
          "output_type": "display_data",
          "data": {
            "text/plain": [
              "[1] 3"
            ],
            "text/latex": "3",
            "text/markdown": "3",
            "text/html": [
              "3"
            ]
          },
          "metadata": {}
        }
      ]
    },
    {
      "cell_type": "code",
      "metadata": {
        "colab": {
          "base_uri": "https://localhost:8080/",
          "height": 34
        },
        "id": "ys5F36uGbozq",
        "outputId": "7b0f4887-429b-49ad-91f6-e4533cf47634"
      },
      "source": [
        "mean(1:10)\n",
        "\n"
      ],
      "execution_count": null,
      "outputs": [
        {
          "output_type": "display_data",
          "data": {
            "text/plain": [
              "[1] 5.5"
            ],
            "text/latex": "5.5",
            "text/markdown": "5.5",
            "text/html": [
              "5.5"
            ]
          },
          "metadata": {}
        }
      ]
    },
    {
      "cell_type": "markdown",
      "metadata": {
        "id": "vGN1Gyg_XMg_"
      },
      "source": [
        "####Caracteres especiales\n",
        "\n",
        "*    R es sensible a mayúsculas y minúsculas, tanto para los nombres de las variables, como para las funciones y parámetros.\n",
        "*    Los espacios en blanco y los carriage return (enter) no son considerados por el lenguaje. Los podemos aprovechar para emprolijar el código y que la lectura sea más simple2.\n",
        "*    El numeral # se utiliza para hacer comentarios. Todo lo que se escribe después del # no es interpretado por R. Se debe utilizar un # por cada línea de código que se desea anular\n",
        "*    Los corchetes [ ] se utilizan para acceder a un objeto:\n",
        "\n",
        "*       en un vector[n° orden]\n",
        "*       en una tabla[fila, columna]\n",
        "*       en una lista[n° elemento]\n",
        "*    el signo $ también es un método de acceso. Particularmente, en los dataframes, nos permitira acceder a una determinada columna de una tabla\n",
        "*    Los paréntesis() se utilizan en las funciones para definir los parámetros.\n",
        "*    Las comas ,   se utilizan para separar los parametros al interior de una función.\n",
        "\n",
        "####Objetos:\n",
        "Existe una gran cantidad de objetos distintos en R, en lo que resepcta al curso trabajaremos principalmente con 3 de ellos:\n",
        "*    Valores\n",
        "*    Vectores\n",
        "*    Data Frames\n",
        "*    Listas\n",
        "\n",
        "####Valores\n",
        "Los valores y vectores pueden ser a su vez de distintas clases:\n",
        "#####**Numeric**\n",
        "\n",
        "\n"
      ]
    },
    {
      "cell_type": "code",
      "metadata": {
        "colab": {
          "base_uri": "https://localhost:8080/",
          "height": 34
        },
        "id": "em7cGcYxYJkB",
        "outputId": "e6f61cdd-f148-4123-b01d-3a835d088fb5"
      },
      "source": [
        "A <-  1\n",
        "class(A)"
      ],
      "execution_count": null,
      "outputs": [
        {
          "output_type": "display_data",
          "data": {
            "text/plain": [
              "[1] \"numeric\""
            ],
            "text/latex": "'numeric'",
            "text/markdown": "'numeric'",
            "text/html": [
              "'numeric'"
            ]
          },
          "metadata": {}
        }
      ]
    },
    {
      "cell_type": "markdown",
      "metadata": {
        "id": "75pFZRalYaSx"
      },
      "source": [
        "#####**Character**"
      ]
    },
    {
      "cell_type": "code",
      "metadata": {
        "colab": {
          "base_uri": "https://localhost:8080/",
          "height": 52
        },
        "id": "KwXp7y-tYKc0",
        "outputId": "53c0dd1e-0a6f-4afa-e2ef-f2c9f2cbe0f7"
      },
      "source": [
        "A <-  paste('Soy', 'una', 'concatenación', 'de', 'caracteres', sep = \" \")\n",
        "A\n",
        "class(A)"
      ],
      "execution_count": null,
      "outputs": [
        {
          "output_type": "display_data",
          "data": {
            "text/plain": [
              "[1] \"Soy una concatenación de caracteres\""
            ],
            "text/latex": "'Soy una concatenación de caracteres'",
            "text/markdown": "'Soy una concatenación de caracteres'",
            "text/html": [
              "'Soy una concatenación de caracteres'"
            ]
          },
          "metadata": {}
        },
        {
          "output_type": "display_data",
          "data": {
            "text/plain": [
              "[1] \"character\""
            ],
            "text/latex": "'character'",
            "text/markdown": "'character'",
            "text/html": [
              "'character'"
            ]
          },
          "metadata": {}
        }
      ]
    },
    {
      "cell_type": "markdown",
      "metadata": {
        "id": "GNm3I9ZBYLMX"
      },
      "source": [
        "#####**Factor**\n"
      ]
    },
    {
      "cell_type": "code",
      "metadata": {
        "colab": {
          "base_uri": "https://localhost:8080/",
          "height": 34
        },
        "id": "EENysIjwYCPA",
        "outputId": "984224cd-87ef-4e2f-e3fe-17dcf7853000"
      },
      "source": [
        "A <- factor(\"Soy un factor, con niveles fijos\")\n",
        "class(A)"
      ],
      "execution_count": null,
      "outputs": [
        {
          "output_type": "display_data",
          "data": {
            "text/plain": [
              "[1] \"factor\""
            ],
            "text/latex": "'factor'",
            "text/markdown": "'factor'",
            "text/html": [
              "'factor'"
            ]
          },
          "metadata": {}
        }
      ]
    },
    {
      "cell_type": "markdown",
      "metadata": {
        "id": "ka5kMvXIYwZl"
      },
      "source": [
        "La diferencia entre un character y un factor es que el último tiene solo algunos valores permitidos (levels), con un orden interno predefinido (el cual, por ejemplo, se respetará a la hora de realizar un gráfico)"
      ]
    },
    {
      "cell_type": "markdown",
      "metadata": {
        "id": "RbXOsusEXtC7"
      },
      "source": [
        "#####**Vectores**\n",
        "Para crear un vector utilizamos el comando c(), de combinar."
      ]
    },
    {
      "cell_type": "code",
      "metadata": {
        "colab": {
          "base_uri": "https://localhost:8080/",
          "height": 34
        },
        "id": "vWTW8TCMZBPg",
        "outputId": "b888e698-e2a1-4df1-887e-2d7a40425d03"
      },
      "source": [
        "C <- c(1, 3, 4)\n",
        "C"
      ],
      "execution_count": null,
      "outputs": [
        {
          "output_type": "display_data",
          "data": {
            "text/plain": [
              "[1] 1 3 4"
            ],
            "text/latex": "\\begin{enumerate*}\n\\item 1\n\\item 3\n\\item 4\n\\end{enumerate*}\n",
            "text/markdown": "1. 1\n2. 3\n3. 4\n\n\n",
            "text/html": [
              "<style>\n",
              ".list-inline {list-style: none; margin:0; padding: 0}\n",
              ".list-inline>li {display: inline-block}\n",
              ".list-inline>li:not(:last-child)::after {content: \"\\00b7\"; padding: 0 .5ex}\n",
              "</style>\n",
              "<ol class=list-inline><li>1</li><li>3</li><li>4</li></ol>\n"
            ]
          },
          "metadata": {}
        }
      ]
    },
    {
      "cell_type": "markdown",
      "metadata": {
        "id": "DupAtDTpZEfb"
      },
      "source": [
        "Podemos sumarle 2 a cada elemento del vector anterior\n"
      ]
    },
    {
      "cell_type": "code",
      "metadata": {
        "colab": {
          "base_uri": "https://localhost:8080/",
          "height": 33
        },
        "id": "8DuLhxiYZJcs",
        "outputId": "d099cba0-c0f9-43c3-9cf0-70b55826d573"
      },
      "source": [
        "C <- C + 2\n",
        "C"
      ],
      "execution_count": null,
      "outputs": [
        {
          "output_type": "display_data",
          "data": {
            "text/plain": [
              "[1] 3 5 6"
            ],
            "text/latex": "\\begin{enumerate*}\n\\item 3\n\\item 5\n\\item 6\n\\end{enumerate*}\n",
            "text/markdown": "1. 3\n2. 5\n3. 6\n\n\n",
            "text/html": [
              "<style>\n",
              ".list-inline {list-style: none; margin:0; padding: 0}\n",
              ".list-inline>li {display: inline-block}\n",
              ".list-inline>li:not(:last-child)::after {content: \"\\00b7\"; padding: 0 .5ex}\n",
              "</style>\n",
              "<ol class=list-inline><li>3</li><li>5</li><li>6</li></ol>\n"
            ]
          },
          "metadata": {}
        }
      ]
    },
    {
      "cell_type": "markdown",
      "metadata": {
        "id": "WcvjzBzvZP0f"
      },
      "source": [
        "O sumarle 1 al primer elemento, 2 al segundo, y 3 al tercer elemento del vector anterior"
      ]
    },
    {
      "cell_type": "code",
      "metadata": {
        "colab": {
          "base_uri": "https://localhost:8080/",
          "height": 33
        },
        "id": "BPT6nUyEZUSn",
        "outputId": "e677b410-329d-432e-8649-4ddf200ffad3"
      },
      "source": [
        "D <- C + 1:3 # esto es equivalente a hacer 3+1, 5+2, 6+9\n",
        "D"
      ],
      "execution_count": null,
      "outputs": [
        {
          "output_type": "display_data",
          "data": {
            "text/plain": [
              "[1] 4 7 9"
            ],
            "text/latex": "\\begin{enumerate*}\n\\item 4\n\\item 7\n\\item 9\n\\end{enumerate*}\n",
            "text/markdown": "1. 4\n2. 7\n3. 9\n\n\n",
            "text/html": [
              "<style>\n",
              ".list-inline {list-style: none; margin:0; padding: 0}\n",
              ".list-inline>li {display: inline-block}\n",
              ".list-inline>li:not(:last-child)::after {content: \"\\00b7\"; padding: 0 .5ex}\n",
              "</style>\n",
              "<ol class=list-inline><li>4</li><li>7</li><li>9</li></ol>\n"
            ]
          },
          "metadata": {}
        }
      ]
    },
    {
      "cell_type": "markdown",
      "metadata": {
        "id": "4cSr2pctZYej"
      },
      "source": [
        "1:3 significa que queremos todos los números enteros desde 1 hasta 3.\n",
        "\n",
        "Podemos crear un vector que contenga las palabras: \"Carlos\", \"Federico\", \"Pedro\"\n"
      ]
    },
    {
      "cell_type": "code",
      "metadata": {
        "colab": {
          "base_uri": "https://localhost:8080/",
          "height": 34
        },
        "id": "bsiVIVqTZmWi",
        "outputId": "e1f6c979-2fb4-4365-b934-60087a5d725d"
      },
      "source": [
        "E <- c(\"Carlos\", \"Federico\", \"Pedro\")\n",
        "E"
      ],
      "execution_count": null,
      "outputs": [
        {
          "output_type": "display_data",
          "data": {
            "text/plain": [
              "[1] \"Carlos\"   \"Federico\" \"Pedro\"   "
            ],
            "text/latex": "\\begin{enumerate*}\n\\item 'Carlos'\n\\item 'Federico'\n\\item 'Pedro'\n\\end{enumerate*}\n",
            "text/markdown": "1. 'Carlos'\n2. 'Federico'\n3. 'Pedro'\n\n\n",
            "text/html": [
              "<style>\n",
              ".list-inline {list-style: none; margin:0; padding: 0}\n",
              ".list-inline>li {display: inline-block}\n",
              ".list-inline>li:not(:last-child)::after {content: \"\\00b7\"; padding: 0 .5ex}\n",
              "</style>\n",
              "<ol class=list-inline><li>'Carlos'</li><li>'Federico'</li><li>'Pedro'</li></ol>\n"
            ]
          },
          "metadata": {}
        }
      ]
    },
    {
      "cell_type": "markdown",
      "metadata": {
        "id": "AwmfAfhbZrQb"
      },
      "source": [
        "Para acceder a algún elemento del vector, podemos buscarlo por su número de orden, entre [ ]"
      ]
    },
    {
      "cell_type": "code",
      "metadata": {
        "colab": {
          "base_uri": "https://localhost:8080/",
          "height": 34
        },
        "id": "fYbHCuzUZuEg",
        "outputId": "7cdccb5e-b4b8-4bf3-c866-fa777c983caa"
      },
      "source": [
        "E[2]"
      ],
      "execution_count": null,
      "outputs": [
        {
          "output_type": "display_data",
          "data": {
            "text/plain": [
              "[1] \"Federico\""
            ],
            "text/latex": "'Federico'",
            "text/markdown": "'Federico'",
            "text/html": [
              "'Federico'"
            ]
          },
          "metadata": {}
        }
      ]
    },
    {
      "cell_type": "markdown",
      "metadata": {
        "id": "pw0N1Qk-ZymI"
      },
      "source": [
        "Si nos interesa almacenar dicho valor, al buscarlo lo asignamos a un nuevo objeto, dándole el nombre que deseemos"
      ]
    },
    {
      "cell_type": "code",
      "metadata": {
        "colab": {
          "base_uri": "https://localhost:8080/",
          "height": 34
        },
        "id": "fcmpUvAMZ3Ii",
        "outputId": "a6be4047-3b25-4abd-ff0f-ff8182e0fd49"
      },
      "source": [
        "elemento2 <- E[2]\n",
        "elemento2"
      ],
      "execution_count": null,
      "outputs": [
        {
          "output_type": "display_data",
          "data": {
            "text/plain": [
              "[1] \"Federico\""
            ],
            "text/latex": "'Federico'",
            "text/markdown": "'Federico'",
            "text/html": [
              "'Federico'"
            ]
          },
          "metadata": {}
        }
      ]
    },
    {
      "cell_type": "markdown",
      "metadata": {
        "id": "ati3XGvaZ6qs"
      },
      "source": [
        "Para borrar un objeto del ambiente de trabajo, utilizamos el comando rm()"
      ]
    },
    {
      "cell_type": "code",
      "metadata": {
        "colab": {
          "base_uri": "https://localhost:8080/",
          "height": 130
        },
        "id": "74l2S7fuZ6UB",
        "outputId": "b02ed0aa-707b-4b7a-b687-ff49fc605946"
      },
      "source": [
        "rm(elemento2)\n",
        "elemento2\n",
        "\n"
      ],
      "execution_count": null,
      "outputs": [
        {
          "output_type": "stream",
          "name": "stderr",
          "text": [
            "Warning message in rm(elemento2):\n",
            "“object 'elemento2' not found”\n"
          ]
        },
        {
          "output_type": "error",
          "ename": "ERROR",
          "evalue": "ignored",
          "traceback": [
            "Error in eval(expr, envir, enclos): object 'elemento2' not found\nTraceback:\n"
          ]
        }
      ]
    },
    {
      "cell_type": "code",
      "metadata": {
        "colab": {
          "base_uri": "https://localhost:8080/",
          "height": 34
        },
        "id": "MBzAeHWreYLW",
        "outputId": "6522fced-b9de-4ec2-bd6e-8c628adc7e97"
      },
      "source": [
        "E=(E[-2])\n",
        "E"
      ],
      "execution_count": null,
      "outputs": [
        {
          "output_type": "display_data",
          "data": {
            "text/plain": [
              "[1] \"Carlos\" \"Pedro\" "
            ],
            "text/latex": "\\begin{enumerate*}\n\\item 'Carlos'\n\\item 'Pedro'\n\\end{enumerate*}\n",
            "text/markdown": "1. 'Carlos'\n2. 'Pedro'\n\n\n",
            "text/html": [
              "<style>\n",
              ".list-inline {list-style: none; margin:0; padding: 0}\n",
              ".list-inline>li {display: inline-block}\n",
              ".list-inline>li:not(:last-child)::after {content: \"\\00b7\"; padding: 0 .5ex}\n",
              "</style>\n",
              "<ol class=list-inline><li>'Carlos'</li><li>'Pedro'</li></ol>\n"
            ]
          },
          "metadata": {}
        }
      ]
    },
    {
      "cell_type": "markdown",
      "metadata": {
        "id": "0_vxUQL4aD1z"
      },
      "source": [
        "También podemos cambiar el texto del segundo elemento de E, por el texto \"Pablo\"\n"
      ]
    },
    {
      "cell_type": "code",
      "metadata": {
        "colab": {
          "base_uri": "https://localhost:8080/",
          "height": 34
        },
        "id": "smxcERlvaGyU",
        "outputId": "8ac46b09-daeb-4755-92a8-c494eec07733"
      },
      "source": [
        "E[2] <- \"Pablo\"\n",
        "E"
      ],
      "execution_count": null,
      "outputs": [
        {
          "output_type": "display_data",
          "data": {
            "text/plain": [
              "[1] \"Carlos\" \"Pablo\" "
            ],
            "text/latex": "\\begin{enumerate*}\n\\item 'Carlos'\n\\item 'Pablo'\n\\end{enumerate*}\n",
            "text/markdown": "1. 'Carlos'\n2. 'Pablo'\n\n\n",
            "text/html": [
              "<style>\n",
              ".list-inline {list-style: none; margin:0; padding: 0}\n",
              ".list-inline>li {display: inline-block}\n",
              ".list-inline>li:not(:last-child)::after {content: \"\\00b7\"; padding: 0 .5ex}\n",
              "</style>\n",
              "<ol class=list-inline><li>'Carlos'</li><li>'Pablo'</li></ol>\n"
            ]
          },
          "metadata": {}
        }
      ]
    },
    {
      "cell_type": "markdown",
      "metadata": {
        "id": "0Vrx60i1aM_i"
      },
      "source": [
        "##Data Frames\n",
        "Un Data Frame es una tabla de datos, donde cada columna representa una variable, y cada fila una observación.\n",
        "\n",
        "Este objeto suele ser central en el proceso de trabajo, y suele ser la forma en que se cargan datos externos para trabajar en el ambiente de R, y en que se exportan los resultados de nuestros trabajo.\n",
        "\n",
        "También se puede crear como la combinación de N vectores de igual tamaño. Por ejemplo, tomamos algunos valores del PAS-Bolsa de Cereales.\n"
      ]
    },
    {
      "cell_type": "code",
      "metadata": {
        "colab": {
          "base_uri": "https://localhost:8080/",
          "height": 380
        },
        "id": "DBnhgFpeaQ3x",
        "outputId": "acb60e4f-eacd-44b6-fb38-e645a9e42d9e"
      },
      "source": [
        "RINDE  <- c(3.2,   2.18,   6,3.12, 3.35, 8.31, 2.92, 2.96, 8.16)\n",
        "\n",
        "CAMPANA  <-  c(\"2017/18\",\"2017/18\",\"2017/18\",\n",
        "             \"2018/19\",\"2018/19\",\"2018/19\",\n",
        "             \"2019/20\",\"2019/20\",\"2019/20\")\n",
        "\n",
        "CULTIVO  <-  c(\"Trigo\",\"Soja\",\"Maiz\",\n",
        "             \"Trigo\",\"Soja\",\"Maiz\",\n",
        "             \"Trigo\",\"Soja\",\"Maiz\")\n",
        "\n",
        "Datos <- data.frame(RINDE, CAMPANA, CULTIVO)\n",
        "Datos"
      ],
      "execution_count": null,
      "outputs": [
        {
          "output_type": "display_data",
          "data": {
            "text/plain": [
              "  RINDE CAMPANA CULTIVO\n",
              "1 3.20  2017/18 Trigo  \n",
              "2 2.18  2017/18 Soja   \n",
              "3 6.00  2017/18 Maiz   \n",
              "4 3.12  2018/19 Trigo  \n",
              "5 3.35  2018/19 Soja   \n",
              "6 8.31  2018/19 Maiz   \n",
              "7 2.92  2019/20 Trigo  \n",
              "8 2.96  2019/20 Soja   \n",
              "9 8.16  2019/20 Maiz   "
            ],
            "text/latex": "A data.frame: 9 × 3\n\\begin{tabular}{lll}\n RINDE & CAMPANA & CULTIVO\\\\\n <dbl> & <chr> & <chr>\\\\\n\\hline\n\t 3.20 & 2017/18 & Trigo\\\\\n\t 2.18 & 2017/18 & Soja \\\\\n\t 6.00 & 2017/18 & Maiz \\\\\n\t 3.12 & 2018/19 & Trigo\\\\\n\t 3.35 & 2018/19 & Soja \\\\\n\t 8.31 & 2018/19 & Maiz \\\\\n\t 2.92 & 2019/20 & Trigo\\\\\n\t 2.96 & 2019/20 & Soja \\\\\n\t 8.16 & 2019/20 & Maiz \\\\\n\\end{tabular}\n",
            "text/markdown": "\nA data.frame: 9 × 3\n\n| RINDE &lt;dbl&gt; | CAMPANA &lt;chr&gt; | CULTIVO &lt;chr&gt; |\n|---|---|---|\n| 3.20 | 2017/18 | Trigo |\n| 2.18 | 2017/18 | Soja  |\n| 6.00 | 2017/18 | Maiz  |\n| 3.12 | 2018/19 | Trigo |\n| 3.35 | 2018/19 | Soja  |\n| 8.31 | 2018/19 | Maiz  |\n| 2.92 | 2019/20 | Trigo |\n| 2.96 | 2019/20 | Soja  |\n| 8.16 | 2019/20 | Maiz  |\n\n",
            "text/html": [
              "<table class=\"dataframe\">\n",
              "<caption>A data.frame: 9 × 3</caption>\n",
              "<thead>\n",
              "\t<tr><th scope=col>RINDE</th><th scope=col>CAMPANA</th><th scope=col>CULTIVO</th></tr>\n",
              "\t<tr><th scope=col>&lt;dbl&gt;</th><th scope=col>&lt;chr&gt;</th><th scope=col>&lt;chr&gt;</th></tr>\n",
              "</thead>\n",
              "<tbody>\n",
              "\t<tr><td>3.20</td><td>2017/18</td><td>Trigo</td></tr>\n",
              "\t<tr><td>2.18</td><td>2017/18</td><td>Soja </td></tr>\n",
              "\t<tr><td>6.00</td><td>2017/18</td><td>Maiz </td></tr>\n",
              "\t<tr><td>3.12</td><td>2018/19</td><td>Trigo</td></tr>\n",
              "\t<tr><td>3.35</td><td>2018/19</td><td>Soja </td></tr>\n",
              "\t<tr><td>8.31</td><td>2018/19</td><td>Maiz </td></tr>\n",
              "\t<tr><td>2.92</td><td>2019/20</td><td>Trigo</td></tr>\n",
              "\t<tr><td>2.96</td><td>2019/20</td><td>Soja </td></tr>\n",
              "\t<tr><td>8.16</td><td>2019/20</td><td>Maiz </td></tr>\n",
              "</tbody>\n",
              "</table>\n"
            ]
          },
          "metadata": {}
        }
      ]
    },
    {
      "cell_type": "code",
      "metadata": {
        "colab": {
          "base_uri": "https://localhost:8080/"
        },
        "id": "bKZmCb1Ef4gx",
        "outputId": "83dbb907-e612-41b7-e7d1-d30b234c5d76"
      },
      "source": [
        "str(Datos)"
      ],
      "execution_count": null,
      "outputs": [
        {
          "output_type": "stream",
          "name": "stdout",
          "text": [
            "'data.frame':\t9 obs. of  3 variables:\n",
            " $ RINDE  : num  3.2 2.18 6 3.12 3.35 8.31 2.92 2.96 8.16\n",
            " $ CAMPANA: chr  \"2017/18\" \"2017/18\" \"2017/18\" \"2018/19\" ...\n",
            " $ CULTIVO: chr  \"Trigo\" \"Soja\" \"Maiz\" \"Trigo\" ...\n"
          ]
        }
      ]
    },
    {
      "cell_type": "markdown",
      "metadata": {
        "id": "to3UEKy9aeNg"
      },
      "source": [
        "Tal como en un vector se ubica a los elementos mediante [ ], en un dataframe se obtienen sus elementos de la forma [fila, columna].\n",
        "Otra opción es especificar la columna, mediante el operador $, y luego seleccionar dentro de esa columna el registro deseado mediante el número de orden."
      ]
    },
    {
      "cell_type": "code",
      "metadata": {
        "colab": {
          "base_uri": "https://localhost:8080/",
          "height": 69
        },
        "id": "TkbELw3caiSS",
        "outputId": "b66b8488-40e0-47ee-b1de-ba58ae3c4c8b"
      },
      "source": [
        "Datos$CAMPANA\n",
        "Datos[3,2]\n",
        "Datos$CAMPANA[3]"
      ],
      "execution_count": null,
      "outputs": [
        {
          "output_type": "display_data",
          "data": {
            "text/plain": [
              "[1] \"2017/18\" \"2017/18\" \"2017/18\" \"2018/19\" \"2018/19\" \"2018/19\" \"2019/20\"\n",
              "[8] \"2019/20\" \"2019/20\""
            ],
            "text/latex": "\\begin{enumerate*}\n\\item '2017/18'\n\\item '2017/18'\n\\item '2017/18'\n\\item '2018/19'\n\\item '2018/19'\n\\item '2018/19'\n\\item '2019/20'\n\\item '2019/20'\n\\item '2019/20'\n\\end{enumerate*}\n",
            "text/markdown": "1. '2017/18'\n2. '2017/18'\n3. '2017/18'\n4. '2018/19'\n5. '2018/19'\n6. '2018/19'\n7. '2019/20'\n8. '2019/20'\n9. '2019/20'\n\n\n",
            "text/html": [
              "<style>\n",
              ".list-inline {list-style: none; margin:0; padding: 0}\n",
              ".list-inline>li {display: inline-block}\n",
              ".list-inline>li:not(:last-child)::after {content: \"\\00b7\"; padding: 0 .5ex}\n",
              "</style>\n",
              "<ol class=list-inline><li>'2017/18'</li><li>'2017/18'</li><li>'2017/18'</li><li>'2018/19'</li><li>'2018/19'</li><li>'2018/19'</li><li>'2019/20'</li><li>'2019/20'</li><li>'2019/20'</li></ol>\n"
            ]
          },
          "metadata": {}
        },
        {
          "output_type": "display_data",
          "data": {
            "text/plain": [
              "[1] \"2017/18\""
            ],
            "text/latex": "'2017/18'",
            "text/markdown": "'2017/18'",
            "text/html": [
              "'2017/18'"
            ]
          },
          "metadata": {}
        },
        {
          "output_type": "display_data",
          "data": {
            "text/plain": [
              "[1] \"2017/18\""
            ],
            "text/latex": "'2017/18'",
            "text/markdown": "'2017/18'",
            "text/html": [
              "'2017/18'"
            ]
          },
          "metadata": {}
        }
      ]
    },
    {
      "cell_type": "markdown",
      "metadata": {
        "id": "rhlPQkYqamck"
      },
      "source": [
        "¿que pasa si hacemos Datos$CAMPANA[3,2] ?"
      ]
    },
    {
      "cell_type": "code",
      "metadata": {
        "colab": {
          "base_uri": "https://localhost:8080/",
          "height": 96
        },
        "id": "Fwvag6oVaorX",
        "outputId": "b56764bf-1cf9-45cb-cdd4-3c531bc1263b"
      },
      "source": [
        "Datos$CAMPANA[3,2]"
      ],
      "execution_count": null,
      "outputs": [
        {
          "output_type": "error",
          "ename": "ERROR",
          "evalue": "ignored",
          "traceback": [
            "Error in Datos$CAMPANA[3, 2]: incorrect number of dimensions\nTraceback:\n"
          ]
        }
      ]
    },
    {
      "cell_type": "markdown",
      "metadata": {
        "id": "v0PksEXHawiV"
      },
      "source": [
        "Nótese que el último comando tiene un número incorrecto de dimensiones, porque estamos refiriendonos 2 veces a la columna CAMPANA.\n",
        "\n",
        "Acorde a lo visto anteriormente, el acceso a los dataframes mediante  [ ] puede utilizarse para realizar filtros sobre la base, especificando una condición para las filas. Por ejemplo, puedo utilizar los  [ ] para conservar del dataframe Datos   unicamente los registros de la campaña *2017/18*:"
      ]
    },
    {
      "cell_type": "code",
      "metadata": {
        "colab": {
          "base_uri": "https://localhost:8080/",
          "height": 192
        },
        "id": "hkP6eb4Aa3c9",
        "outputId": "c9ab3999-5152-47dd-d0a4-b02c27d39fb1"
      },
      "source": [
        "Datos[Datos$CAMPANA==\"2017/18\",]"
      ],
      "execution_count": null,
      "outputs": [
        {
          "output_type": "display_data",
          "data": {
            "text/plain": [
              "  RINDE CAMPANA CULTIVO\n",
              "1 3.20  2017/18 Trigo  \n",
              "2 2.18  2017/18 Soja   \n",
              "3 6.00  2017/18 Maiz   "
            ],
            "text/latex": "A data.frame: 3 × 3\n\\begin{tabular}{r|lll}\n  & RINDE & CAMPANA & CULTIVO\\\\\n  & <dbl> & <chr> & <chr>\\\\\n\\hline\n\t1 & 3.20 & 2017/18 & Trigo\\\\\n\t2 & 2.18 & 2017/18 & Soja \\\\\n\t3 & 6.00 & 2017/18 & Maiz \\\\\n\\end{tabular}\n",
            "text/markdown": "\nA data.frame: 3 × 3\n\n| <!--/--> | RINDE &lt;dbl&gt; | CAMPANA &lt;chr&gt; | CULTIVO &lt;chr&gt; |\n|---|---|---|---|\n| 1 | 3.20 | 2017/18 | Trigo |\n| 2 | 2.18 | 2017/18 | Soja  |\n| 3 | 6.00 | 2017/18 | Maiz  |\n\n",
            "text/html": [
              "<table class=\"dataframe\">\n",
              "<caption>A data.frame: 3 × 3</caption>\n",
              "<thead>\n",
              "\t<tr><th></th><th scope=col>RINDE</th><th scope=col>CAMPANA</th><th scope=col>CULTIVO</th></tr>\n",
              "\t<tr><th></th><th scope=col>&lt;dbl&gt;</th><th scope=col>&lt;chr&gt;</th><th scope=col>&lt;chr&gt;</th></tr>\n",
              "</thead>\n",
              "<tbody>\n",
              "\t<tr><th scope=row>1</th><td>3.20</td><td>2017/18</td><td>Trigo</td></tr>\n",
              "\t<tr><th scope=row>2</th><td>2.18</td><td>2017/18</td><td>Soja </td></tr>\n",
              "\t<tr><th scope=row>3</th><td>6.00</td><td>2017/18</td><td>Maiz </td></tr>\n",
              "</tbody>\n",
              "</table>\n"
            ]
          },
          "metadata": {}
        }
      ]
    },
    {
      "cell_type": "markdown",
      "metadata": {
        "id": "ioy_yuDpa62l"
      },
      "source": [
        "La lógica del paso anterior sería: Accedo al dataframe Datos, pidiendo únicamente conservar las filas (por eso la condición se ubica a la izquierda de la  , ) que cumplan el requisito de pertenecer a la categoría \"2017/18\" de la variable CAMPANA.\n",
        "Aún más, podría aplicar el filtro y al mismo tiempo identificar una variable de interés para luego realizar un cálculo sobre aquella. Por ejemplo, podría calcular la media de los rindes en CAMPANA 2017/18.\n"
      ]
    },
    {
      "cell_type": "code",
      "metadata": {
        "colab": {
          "base_uri": "https://localhost:8080/",
          "height": 69
        },
        "id": "yEAO7eUXbKdt",
        "outputId": "fca38897-d286-4170-a1f6-c45366845c41"
      },
      "source": [
        "###Por separado\n",
        "rindes_17_18 <- Datos$RINDE[Datos$CAMPANA==\"2017/18\"]\n",
        "rindes_17_18\n",
        "mean(rindes_17_18)\n",
        "### Todo junto\n",
        "mean(Datos$RINDE[Datos$CAMPANA==\"2017/18\"])"
      ],
      "execution_count": null,
      "outputs": [
        {
          "output_type": "display_data",
          "data": {
            "text/plain": [
              "[1] 3.20 2.18 6.00"
            ],
            "text/latex": "\\begin{enumerate*}\n\\item 3.2\n\\item 2.18\n\\item 6\n\\end{enumerate*}\n",
            "text/markdown": "1. 3.2\n2. 2.18\n3. 6\n\n\n",
            "text/html": [
              "<style>\n",
              ".list-inline {list-style: none; margin:0; padding: 0}\n",
              ".list-inline>li {display: inline-block}\n",
              ".list-inline>li:not(:last-child)::after {content: \"\\00b7\"; padding: 0 .5ex}\n",
              "</style>\n",
              "<ol class=list-inline><li>3.2</li><li>2.18</li><li>6</li></ol>\n"
            ]
          },
          "metadata": {}
        },
        {
          "output_type": "display_data",
          "data": {
            "text/plain": [
              "[1] 3.793333"
            ],
            "text/latex": "3.79333333333333",
            "text/markdown": "3.79333333333333",
            "text/html": [
              "3.79333333333333"
            ]
          },
          "metadata": {}
        },
        {
          "output_type": "display_data",
          "data": {
            "text/plain": [
              "[1] 3.793333"
            ],
            "text/latex": "3.79333333333333",
            "text/markdown": "3.79333333333333",
            "text/html": [
              "3.79333333333333"
            ]
          },
          "metadata": {}
        }
      ]
    },
    {
      "cell_type": "markdown",
      "metadata": {
        "id": "6zd1Nz_RbJSB"
      },
      "source": [
        "La lógica de esta sintaxis sería: \"Me quedo con la variable RINDE, cuando la variable CAMPANA sea igual a \"2017/18\", luego calculo la media de dichos valores\". Es como si se estuviera leyendo desde el interior para afuera.\n",
        "\n",
        "#### **Listas**\n",
        "Contienen una concatenación de objetos de cualquier tipo. Así como un vector contiene valores, un dataframe contiene vectores, una lista puede contener dataframes, pero también vectores, o valores, y todo ello a la vez.\n"
      ]
    },
    {
      "cell_type": "code",
      "metadata": {
        "colab": {
          "base_uri": "https://localhost:8080/",
          "height": 721
        },
        "id": "IWeN9ztobUIS",
        "outputId": "657f8859-c67e-4c6e-fc88-a4fd41bc012d"
      },
      "source": [
        "superlista <- list(A=A,B=B,C,D,E,Campanita=CAMPANA, DF = Datos, RINDE, CULTIVO)\n",
        "superlista"
      ],
      "execution_count": null,
      "outputs": [
        {
          "output_type": "display_data",
          "data": {
            "text/plain": [
              "$A\n",
              "[1] Soy un factor, con niveles fijos\n",
              "Levels: Soy un factor, con niveles fijos\n",
              "\n",
              "$B\n",
              "[1] -2\n",
              "\n",
              "[[3]]\n",
              "[1] 1 3 4\n",
              "\n",
              "[[4]]\n",
              "[1] 15\n",
              "\n",
              "[[5]]\n",
              "[1] \"Carlos\" \"Pablo\" \n",
              "\n",
              "$Campanita\n",
              "[1] \"2017/18\" \"2017/18\" \"2017/18\" \"2018/19\" \"2018/19\" \"2018/19\" \"2019/20\"\n",
              "[8] \"2019/20\" \"2019/20\"\n",
              "\n",
              "$DF\n",
              "  RINDE CAMPANA CULTIVO\n",
              "1  3.20 2017/18   Trigo\n",
              "2  2.18 2017/18    Soja\n",
              "3  6.00 2017/18    Maiz\n",
              "4  3.12 2018/19   Trigo\n",
              "5  3.35 2018/19    Soja\n",
              "6  8.31 2018/19    Maiz\n",
              "7  2.92 2019/20   Trigo\n",
              "8  2.96 2019/20    Soja\n",
              "9  8.16 2019/20    Maiz\n",
              "\n",
              "[[8]]\n",
              "[1] 3.20 2.18 6.00 3.12 3.35 8.31 2.92 2.96 8.16\n",
              "\n",
              "[[9]]\n",
              "[1] \"Trigo\" \"Soja\"  \"Maiz\"  \"Trigo\" \"Soja\"  \"Maiz\"  \"Trigo\" \"Soja\"  \"Maiz\" \n"
            ],
            "text/latex": "\\begin{description}\n\\item[\\$A] Soy un factor, con niveles fijos\n\\emph{Levels}: 'Soy un factor, con niveles fijos'\n\\item[\\$B] -2\n\\item[{[[3]]}] \\begin{enumerate*}\n\\item 1\n\\item 3\n\\item 4\n\\end{enumerate*}\n\n\\item[{[[4]]}] 15\n\\item[{[[5]]}] \\begin{enumerate*}\n\\item 'Carlos'\n\\item 'Pablo'\n\\end{enumerate*}\n\n\\item[\\$Campanita] \\begin{enumerate*}\n\\item '2017/18'\n\\item '2017/18'\n\\item '2017/18'\n\\item '2018/19'\n\\item '2018/19'\n\\item '2018/19'\n\\item '2019/20'\n\\item '2019/20'\n\\item '2019/20'\n\\end{enumerate*}\n\n\\item[\\$DF] A data.frame: 9 × 3\n\\begin{tabular}{lll}\n RINDE & CAMPANA & CULTIVO\\\\\n <dbl> & <chr> & <chr>\\\\\n\\hline\n\t 3.20 & 2017/18 & Trigo\\\\\n\t 2.18 & 2017/18 & Soja \\\\\n\t 6.00 & 2017/18 & Maiz \\\\\n\t 3.12 & 2018/19 & Trigo\\\\\n\t 3.35 & 2018/19 & Soja \\\\\n\t 8.31 & 2018/19 & Maiz \\\\\n\t 2.92 & 2019/20 & Trigo\\\\\n\t 2.96 & 2019/20 & Soja \\\\\n\t 8.16 & 2019/20 & Maiz \\\\\n\\end{tabular}\n\n\\item[{[[8]]}] \\begin{enumerate*}\n\\item 3.2\n\\item 2.18\n\\item 6\n\\item 3.12\n\\item 3.35\n\\item 8.31\n\\item 2.92\n\\item 2.96\n\\item 8.16\n\\end{enumerate*}\n\n\\item[{[[9]]}] \\begin{enumerate*}\n\\item 'Trigo'\n\\item 'Soja'\n\\item 'Maiz'\n\\item 'Trigo'\n\\item 'Soja'\n\\item 'Maiz'\n\\item 'Trigo'\n\\item 'Soja'\n\\item 'Maiz'\n\\end{enumerate*}\n\n\\end{description}\n",
            "text/markdown": "$A\n:   Soy un factor, con niveles fijos\n**Levels**: 'Soy un factor, con niveles fijos'\n$B\n:   -2\n[[3]]\n:   1. 1\n2. 3\n3. 4\n\n\n\n[[4]]\n:   15\n[[5]]\n:   1. 'Carlos'\n2. 'Pablo'\n\n\n\n$Campanita\n:   1. '2017/18'\n2. '2017/18'\n3. '2017/18'\n4. '2018/19'\n5. '2018/19'\n6. '2018/19'\n7. '2019/20'\n8. '2019/20'\n9. '2019/20'\n\n\n\n$DF\n:   \nA data.frame: 9 × 3\n\n| RINDE &lt;dbl&gt; | CAMPANA &lt;chr&gt; | CULTIVO &lt;chr&gt; |\n|---|---|---|\n| 3.20 | 2017/18 | Trigo |\n| 2.18 | 2017/18 | Soja  |\n| 6.00 | 2017/18 | Maiz  |\n| 3.12 | 2018/19 | Trigo |\n| 3.35 | 2018/19 | Soja  |\n| 8.31 | 2018/19 | Maiz  |\n| 2.92 | 2019/20 | Trigo |\n| 2.96 | 2019/20 | Soja  |\n| 8.16 | 2019/20 | Maiz  |\n\n\n[[8]]\n:   1. 3.2\n2. 2.18\n3. 6\n4. 3.12\n5. 3.35\n6. 8.31\n7. 2.92\n8. 2.96\n9. 8.16\n\n\n\n[[9]]\n:   1. 'Trigo'\n2. 'Soja'\n3. 'Maiz'\n4. 'Trigo'\n5. 'Soja'\n6. 'Maiz'\n7. 'Trigo'\n8. 'Soja'\n9. 'Maiz'\n\n\n\n\n\n",
            "text/html": [
              "<dl>\n",
              "\t<dt>$A</dt>\n",
              "\t\t<dd>Soy un factor, con niveles fijos\n",
              "<details>\n",
              "\t<summary style=display:list-item;cursor:pointer>\n",
              "\t\t<strong>Levels</strong>:\n",
              "\t</summary>\n",
              "\t'Soy un factor, con niveles fijos'\n",
              "</details></dd>\n",
              "\t<dt>$B</dt>\n",
              "\t\t<dd>-2</dd>\n",
              "\t<dt>[[3]]</dt>\n",
              "\t\t<dd><style>\n",
              ".list-inline {list-style: none; margin:0; padding: 0}\n",
              ".list-inline>li {display: inline-block}\n",
              ".list-inline>li:not(:last-child)::after {content: \"\\00b7\"; padding: 0 .5ex}\n",
              "</style>\n",
              "<ol class=list-inline><li>1</li><li>3</li><li>4</li></ol>\n",
              "</dd>\n",
              "\t<dt>[[4]]</dt>\n",
              "\t\t<dd>15</dd>\n",
              "\t<dt>[[5]]</dt>\n",
              "\t\t<dd><style>\n",
              ".list-inline {list-style: none; margin:0; padding: 0}\n",
              ".list-inline>li {display: inline-block}\n",
              ".list-inline>li:not(:last-child)::after {content: \"\\00b7\"; padding: 0 .5ex}\n",
              "</style>\n",
              "<ol class=list-inline><li>'Carlos'</li><li>'Pablo'</li></ol>\n",
              "</dd>\n",
              "\t<dt>$Campanita</dt>\n",
              "\t\t<dd><style>\n",
              ".list-inline {list-style: none; margin:0; padding: 0}\n",
              ".list-inline>li {display: inline-block}\n",
              ".list-inline>li:not(:last-child)::after {content: \"\\00b7\"; padding: 0 .5ex}\n",
              "</style>\n",
              "<ol class=list-inline><li>'2017/18'</li><li>'2017/18'</li><li>'2017/18'</li><li>'2018/19'</li><li>'2018/19'</li><li>'2018/19'</li><li>'2019/20'</li><li>'2019/20'</li><li>'2019/20'</li></ol>\n",
              "</dd>\n",
              "\t<dt>$DF</dt>\n",
              "\t\t<dd><table class=\"dataframe\">\n",
              "<caption>A data.frame: 9 × 3</caption>\n",
              "<thead>\n",
              "\t<tr><th scope=col>RINDE</th><th scope=col>CAMPANA</th><th scope=col>CULTIVO</th></tr>\n",
              "\t<tr><th scope=col>&lt;dbl&gt;</th><th scope=col>&lt;chr&gt;</th><th scope=col>&lt;chr&gt;</th></tr>\n",
              "</thead>\n",
              "<tbody>\n",
              "\t<tr><td>3.20</td><td>2017/18</td><td>Trigo</td></tr>\n",
              "\t<tr><td>2.18</td><td>2017/18</td><td>Soja </td></tr>\n",
              "\t<tr><td>6.00</td><td>2017/18</td><td>Maiz </td></tr>\n",
              "\t<tr><td>3.12</td><td>2018/19</td><td>Trigo</td></tr>\n",
              "\t<tr><td>3.35</td><td>2018/19</td><td>Soja </td></tr>\n",
              "\t<tr><td>8.31</td><td>2018/19</td><td>Maiz </td></tr>\n",
              "\t<tr><td>2.92</td><td>2019/20</td><td>Trigo</td></tr>\n",
              "\t<tr><td>2.96</td><td>2019/20</td><td>Soja </td></tr>\n",
              "\t<tr><td>8.16</td><td>2019/20</td><td>Maiz </td></tr>\n",
              "</tbody>\n",
              "</table>\n",
              "</dd>\n",
              "\t<dt>[[8]]</dt>\n",
              "\t\t<dd><style>\n",
              ".list-inline {list-style: none; margin:0; padding: 0}\n",
              ".list-inline>li {display: inline-block}\n",
              ".list-inline>li:not(:last-child)::after {content: \"\\00b7\"; padding: 0 .5ex}\n",
              "</style>\n",
              "<ol class=list-inline><li>3.2</li><li>2.18</li><li>6</li><li>3.12</li><li>3.35</li><li>8.31</li><li>2.92</li><li>2.96</li><li>8.16</li></ol>\n",
              "</dd>\n",
              "\t<dt>[[9]]</dt>\n",
              "\t\t<dd><style>\n",
              ".list-inline {list-style: none; margin:0; padding: 0}\n",
              ".list-inline>li {display: inline-block}\n",
              ".list-inline>li:not(:last-child)::after {content: \"\\00b7\"; padding: 0 .5ex}\n",
              "</style>\n",
              "<ol class=list-inline><li>'Trigo'</li><li>'Soja'</li><li>'Maiz'</li><li>'Trigo'</li><li>'Soja'</li><li>'Maiz'</li><li>'Trigo'</li><li>'Soja'</li><li>'Maiz'</li></ol>\n",
              "</dd>\n",
              "</dl>\n"
            ]
          },
          "metadata": {}
        }
      ]
    },
    {
      "cell_type": "markdown",
      "metadata": {
        "id": "0RTFXuMSbeaU"
      },
      "source": [
        "Para acceder un elemento de una lista, podemos utilizar el operador $, que se puede usar a su vez de forma iterativa."
      ]
    },
    {
      "cell_type": "code",
      "metadata": {
        "colab": {
          "base_uri": "https://localhost:8080/",
          "height": 33
        },
        "id": "WI3Uz8zybbh3",
        "outputId": "8e483cde-416d-4e3f-9a0d-a7de011862d8"
      },
      "source": [
        "superlista$DF$CAMPANA[2]"
      ],
      "execution_count": null,
      "outputs": [
        {
          "output_type": "display_data",
          "data": {
            "text/plain": [
              "[1] \"2017/18\""
            ],
            "text/latex": "'2017/18'",
            "text/markdown": "'2017/18'",
            "text/html": [
              "'2017/18'"
            ]
          },
          "metadata": {}
        }
      ]
    }
  ]
}